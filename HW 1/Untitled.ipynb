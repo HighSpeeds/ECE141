{
 "cells": [
  {
   "cell_type": "code",
   "execution_count": 2,
   "id": "a7ebc41b",
   "metadata": {},
   "outputs": [],
   "source": [
    "import numpy as np"
   ]
  },
  {
   "cell_type": "code",
   "execution_count": 3,
   "id": "d88111ab",
   "metadata": {},
   "outputs": [],
   "source": [
    "a,b,c=np.dot(np.linalg.inv([[1,1,0],\n",
    "              [0,1,1],\n",
    "              [16,0,1]]),[0,2,6])"
   ]
  },
  {
   "cell_type": "code",
   "execution_count": 4,
   "id": "0a978f06",
   "metadata": {},
   "outputs": [
    {
     "data": {
      "text/plain": [
       "6.0"
      ]
     },
     "execution_count": 4,
     "metadata": {},
     "output_type": "execute_result"
    }
   ],
   "source": [
    "c+16*a"
   ]
  },
  {
   "cell_type": "code",
   "execution_count": 5,
   "id": "3aa46034",
   "metadata": {},
   "outputs": [
    {
     "data": {
      "text/plain": [
       "2.7755575615628914e-17"
      ]
     },
     "execution_count": 5,
     "metadata": {},
     "output_type": "execute_result"
    }
   ],
   "source": [
    "a+b"
   ]
  },
  {
   "cell_type": "code",
   "execution_count": 6,
   "id": "3041b072",
   "metadata": {},
   "outputs": [
    {
     "data": {
      "text/plain": [
       "array([ 0.2353, -0.2353,  2.2353])"
      ]
     },
     "execution_count": 6,
     "metadata": {},
     "output_type": "execute_result"
    }
   ],
   "source": [
    "np.round([a,b,c],4)"
   ]
  },
  {
   "cell_type": "code",
   "execution_count": 7,
   "id": "0f374a87",
   "metadata": {},
   "outputs": [
    {
     "data": {
      "text/plain": [
       "0.5588"
      ]
     },
     "execution_count": 7,
     "metadata": {},
     "output_type": "execute_result"
    }
   ],
   "source": [
    "np.round(c/4,4)"
   ]
  },
  {
   "cell_type": "code",
   "execution_count": 8,
   "id": "965f9daf",
   "metadata": {},
   "outputs": [],
   "source": [
    "a,b,c=np.dot(np.linalg.inv([[1,1,0],\n",
    "              [0,1,1],\n",
    "              [1,0,1]]),[-1,0,0])"
   ]
  },
  {
   "cell_type": "code",
   "execution_count": 9,
   "id": "792e938c",
   "metadata": {},
   "outputs": [
    {
     "data": {
      "text/plain": [
       "(-0.5, -0.5, 0.5)"
      ]
     },
     "execution_count": 9,
     "metadata": {},
     "output_type": "execute_result"
    }
   ],
   "source": [
    "a,b,c"
   ]
  },
  {
   "cell_type": "code",
   "execution_count": null,
   "id": "8d81e5f4",
   "metadata": {},
   "outputs": [],
   "source": []
  }
 ],
 "metadata": {
  "kernelspec": {
   "display_name": "Python 3 (ipykernel)",
   "language": "python",
   "name": "python3"
  },
  "language_info": {
   "codemirror_mode": {
    "name": "ipython",
    "version": 3
   },
   "file_extension": ".py",
   "mimetype": "text/x-python",
   "name": "python",
   "nbconvert_exporter": "python",
   "pygments_lexer": "ipython3",
   "version": "3.9.7"
  }
 },
 "nbformat": 4,
 "nbformat_minor": 5
}
