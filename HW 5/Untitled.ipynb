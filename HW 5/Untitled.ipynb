{
 "cells": [
  {
   "cell_type": "code",
   "execution_count": 1,
   "id": "c7b05815",
   "metadata": {},
   "outputs": [],
   "source": [
    "import numpy as np"
   ]
  },
  {
   "cell_type": "code",
   "execution_count": 77,
   "id": "4534147d",
   "metadata": {},
   "outputs": [],
   "source": [
    "poles=np.array([0,0,-10,-3+5j/2,-3-5j/2])\n",
    "zeros=np.array([-3,-3])"
   ]
  },
  {
   "cell_type": "code",
   "execution_count": 79,
   "id": "f7c2deee",
   "metadata": {},
   "outputs": [
    {
     "name": "stdout",
     "output_type": "stream",
     "text": [
      "alpha=(-3.333333333333333+0j)\n"
     ]
    }
   ],
   "source": [
    "print(f\"alpha={(np.sum(poles)-np.sum(zeros))/(len(poles)-len(zeros))}\")"
   ]
  },
  {
   "cell_type": "code",
   "execution_count": 76,
   "id": "cd9763c9",
   "metadata": {},
   "outputs": [
    {
     "data": {
      "text/plain": [
       "0j"
      ]
     },
     "execution_count": 76,
     "metadata": {},
     "output_type": "execute_result"
    }
   ],
   "source": [
    "np.sum(poles)"
   ]
  },
  {
   "cell_type": "code",
   "execution_count": 73,
   "id": "72a70085",
   "metadata": {},
   "outputs": [
    {
     "name": "stdout",
     "output_type": "stream",
     "text": [
      "for pole 2j, departure angle: 180.0 degrees\n",
      "for pole (-0-2j), departure angle: 180.0 degrees\n",
      "for pole 0j, departure angle: 180.0 degrees\n"
     ]
    }
   ],
   "source": [
    "for p1 in poles:\n",
    "    sum_p=0\n",
    "    sum_z=0\n",
    "    for p2 in poles:\n",
    "        if p1!=p2:\n",
    "            #print(np.degrees(np.arctan2(np.imag(p1-p2),np.real(p1-p2))))\n",
    "            sum_p+=np.arctan2(np.imag(p1-p2),np.real(p1-p2))\n",
    "    for z in zeros:\n",
    "        sum_z+=np.arctan2(-np.imag(z-p1),-np.real(z-p1))\n",
    "        \n",
    "    print(f\"for pole {p1}, departure angle:\",180+np.degrees(sum_z)-np.degrees(sum_p),\"degrees\")"
   ]
  },
  {
   "cell_type": "code",
   "execution_count": 74,
   "id": "00077d13",
   "metadata": {
    "scrolled": true
   },
   "outputs": [
    {
     "name": "stdout",
     "output_type": "stream",
     "text": [
      "pole angles\n",
      "-90.0\n",
      "90.0\n",
      "90.0\n",
      "sum_p=90.0\n",
      "zero angles\n",
      "90.0\n",
      "90.0\n",
      "for zero 1j, arrival angle: 180.0 degrees\n",
      "pole angles\n",
      "-90.0\n",
      "90.0\n",
      "-90.0\n",
      "sum_p=-90.0\n",
      "zero angles\n",
      "-90.0\n",
      "-90.0\n",
      "for zero (-0-1j), arrival angle: 180.0 degrees\n"
     ]
    }
   ],
   "source": [
    "for z1 in zeros:\n",
    "    sum_p=0\n",
    "    sum_z=0\n",
    "    print(\"pole angles\")\n",
    "    for p2 in poles:\n",
    "        #print(np.degrees(np.arctan2(np.imag(p1-p2),np.real(p1-p2))))\n",
    "        sum_p+=np.arctan2(np.imag(z1-p2),np.real(z1-p2))\n",
    "        print(np.degrees(np.arctan2(np.imag(z1-p2),np.real(z1-p2))))\n",
    "    print(f\"sum_p={np.degrees(sum_p)}\")\n",
    "    print(\"zero angles\")\n",
    "    for z in zeros:\n",
    "        if z!=z1:\n",
    "            sum_z+=np.arctan2(np.imag(z1-z),np.real(z1-z))\n",
    "            print(np.degrees(np.arctan2(np.imag(z1-z),np.real(z1-z))))\n",
    "    print(np.degrees(sum_z))\n",
    "    print(f\"for zero {z1}, arrival angle:\",180-np.degrees(sum_z)+np.degrees(sum_p),\"degrees\")"
   ]
  },
  {
   "cell_type": "code",
   "execution_count": 52,
   "id": "05e14ec5",
   "metadata": {},
   "outputs": [
    {
     "data": {
      "text/plain": [
       "array([0.+0.j, 0.+0.j])"
      ]
     },
     "execution_count": 52,
     "metadata": {},
     "output_type": "execute_result"
    }
   ],
   "source": [
    "zeros**2+2*zeros+8"
   ]
  },
  {
   "cell_type": "code",
   "execution_count": 19,
   "id": "909f60a1",
   "metadata": {},
   "outputs": [
    {
     "data": {
      "text/plain": [
       "191.24248884660983"
      ]
     },
     "execution_count": 19,
     "metadata": {},
     "output_type": "execute_result"
    }
   ],
   "source": [
    "for p1 in poles:\n",
    "    sum_p=0\n",
    "    sum_z=0\n",
    "    for p2 in poles:\n",
    "        if p1!=p2:\n",
    "            #print(np.degrees(np.arctan2(np.imag(p1-p2),np.real(p1-p2))))\n",
    "            sum_p+=np.arctan2(np.imag(p1-p2),np.real(p1-p2))\n",
    "    for z in zeros:\n",
    "        sum_z+=np.arctan2(-np.imag(z-p1),-np.real(z-p1))\n",
    "        \n",
    "    print(180+np.degrees(sum_z)-np.degrees(su"
   ]
  },
  {
   "cell_type": "code",
   "execution_count": 20,
   "id": "24f2319e",
   "metadata": {},
   "outputs": [
    {
     "data": {
      "text/plain": [
       "1.2094292028881888"
      ]
     },
     "execution_count": 20,
     "metadata": {},
     "output_type": "execute_result"
    }
   ],
   "source": [
    "zeros"
   ]
  },
  {
   "cell_type": "code",
   "execution_count": 21,
   "id": "61ffa1fd",
   "metadata": {},
   "outputs": [
    {
     "data": {
      "text/plain": [
       "1.4056476493802699"
      ]
     },
     "execution_count": 21,
     "metadata": {},
     "output_type": "execute_result"
    }
   ],
   "source": [
    "roots"
   ]
  },
  {
   "cell_type": "code",
   "execution_count": 14,
   "id": "7d2ad55a",
   "metadata": {},
   "outputs": [
    {
     "data": {
      "text/plain": [
       "-1.2094292028881888"
      ]
     },
     "execution_count": 14,
     "metadata": {},
     "output_type": "execute_result"
    }
   ],
   "source": [
    "zeros"
   ]
  },
  {
   "cell_type": "code",
   "execution_count": 26,
   "id": "a31a5510",
   "metadata": {},
   "outputs": [
    {
     "data": {
      "text/plain": [
       "191.24248884660983"
      ]
     },
     "execution_count": 26,
     "metadata": {},
     "output_type": "execute_result"
    }
   ],
   "source": [
    "360+np.degrees(roots)-np.degrees(zeros)-180"
   ]
  },
  {
   "cell_type": "code",
   "execution_count": 25,
   "id": "7d4457bf",
   "metadata": {},
   "outputs": [
    {
     "data": {
      "text/plain": [
       "168.75751115339017"
      ]
     },
     "execution_count": 25,
     "metadata": {},
     "output_type": "execute_result"
    }
   ],
   "source": [
    "(180-np.degrees(roots)+np.degrees(zeros)+360)%360"
   ]
  },
  {
   "cell_type": "code",
   "execution_count": null,
   "id": "85d5bf24",
   "metadata": {},
   "outputs": [],
   "source": []
  }
 ],
 "metadata": {
  "kernelspec": {
   "display_name": "Python 3 (ipykernel)",
   "language": "python",
   "name": "python3"
  },
  "language_info": {
   "codemirror_mode": {
    "name": "ipython",
    "version": 3
   },
   "file_extension": ".py",
   "mimetype": "text/x-python",
   "name": "python",
   "nbconvert_exporter": "python",
   "pygments_lexer": "ipython3",
   "version": "3.9.7"
  }
 },
 "nbformat": 4,
 "nbformat_minor": 5
}
