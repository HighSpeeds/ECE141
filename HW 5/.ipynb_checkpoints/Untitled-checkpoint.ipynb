{
 "cells": [
  {
   "cell_type": "code",
   "execution_count": 1,
   "id": "3ef8bf20",
   "metadata": {},
   "outputs": [],
   "source": [
    "import numpy as np"
   ]
  },
  {
   "cell_type": "code",
   "execution_count": 126,
   "id": "7384c7fd",
   "metadata": {},
   "outputs": [],
   "source": [
    "# poles=np.array([0,1,-6,-6])\n",
    "# zeros=np.array([-2])\n",
    "\n",
    "\n",
    "poles=np.array([0,0,-2,-3])\n",
    "zeros=np.array([-1-1j,-1+1j])\n",
    "\n",
    "\n",
    "# poles=np.array([0,-1-3j,-1+3j])\n",
    "# zeros=np.array([-1+np.sqrt(7)*1j,-1-np.sqrt(7)*1j])"
   ]
  },
  {
   "cell_type": "code",
   "execution_count": 127,
   "id": "f74d6fe5",
   "metadata": {},
   "outputs": [
    {
     "name": "stdout",
     "output_type": "stream",
     "text": [
      "alpha=-3.0\n"
     ]
    }
   ],
   "source": [
    "print(f\"alpha={(np.sum(poles)-np.sum(zeros))/(len(poles)-len(zeros))}\")"
   ]
  },
  {
   "cell_type": "code",
   "execution_count": 128,
   "id": "a43a5802",
   "metadata": {},
   "outputs": [
    {
     "name": "stdout",
     "output_type": "stream",
     "text": [
      "phi_1=60.0\n",
      "phi_2=180.0\n",
      "phi_3=300.0\n"
     ]
    }
   ],
   "source": [
    "for l in range(1,len(poles)-len(zeros)+1):\n",
    "    print(f\"phi_{l}={(180+(l-1)*360)/(len(poles)-len(zeros))}\")"
   ]
  },
  {
   "cell_type": "code",
   "execution_count": 129,
   "id": "80196cdf",
   "metadata": {},
   "outputs": [
    {
     "name": "stdout",
     "output_type": "stream",
     "text": [
      "for pole -6, departure angle 1: 180.0 degrees\n",
      "for pole -6, departure angle 2: 0.0 degrees\n",
      "for pole 0, departure angle 1: 0.0 degrees\n",
      "for pole 1, departure angle 1: 180.0 degrees\n"
     ]
    }
   ],
   "source": [
    "for p1 in np.unique(poles):\n",
    "    sum_p=0\n",
    "    sum_z=0\n",
    "    for p2 in poles:\n",
    "        if p1!=p2:\n",
    "            #print(np.degrees(np.arctan2(np.imag(p1-p2),np.real(p1-p2))))\n",
    "            sum_p+=np.arctan2(np.imag(p1-p2),np.real(p1-p2))\n",
    "    for z in zeros:\n",
    "        sum_z+=np.arctan2(-np.imag(z-p1),-np.real(z-p1))\n",
    "    \n",
    "    q=np.sum(poles==p1)\n",
    "    for l in range(np.sum(poles==p1)):\n",
    "        print(f\"for pole {p1}, departure angle {l+1}:\",(1/q*(-180+np.degrees(sum_z)-np.degrees(sum_p)-(l)*360))%360,\n",
    "              \"degrees\")"
   ]
  },
  {
   "cell_type": "code",
   "execution_count": 130,
   "id": "299f4e6c",
   "metadata": {
    "scrolled": true
   },
   "outputs": [
    {
     "name": "stdout",
     "output_type": "stream",
     "text": [
      "for zero -2, arrival angle: 180.0 degrees\n"
     ]
    }
   ],
   "source": [
    "for z1 in np.unique(zeros):\n",
    "    sum_p=0\n",
    "    sum_z=0\n",
    "    for p2 in poles:\n",
    "        #print(np.degrees(np.arctan2(np.imag(p1-p2),np.real(p1-p2))))\n",
    "        sum_p+=np.arctan2(np.imag(z1-p2),np.real(z1-p2))\n",
    "    for z in zeros:\n",
    "        if z!=z1:\n",
    "            sum_z+=np.arctan2(np.imag(z1-z),np.real(z1-z))\n",
    "    q=np.sum(zeros==z1)\n",
    "    for l in range(np.sum(zeros==z1)):\n",
    "        print(f\"for zero {z1}, arrival angle:\",(1/q*(180-np.degrees(sum_z)+np.degrees(sum_p)+360*l))%360,\"degrees\")"
   ]
  },
  {
   "cell_type": "code",
   "execution_count": 119,
   "id": "ca76ce05",
   "metadata": {},
   "outputs": [
    {
     "data": {
      "text/plain": [
       "array([11, 11])"
      ]
     },
     "execution_count": 119,
     "metadata": {},
     "output_type": "execute_result"
    }
   ],
   "source": [
    "zeros**2+2*zeros+8"
   ]
  },
  {
   "cell_type": "code",
   "execution_count": 19,
   "id": "feddb028",
   "metadata": {},
   "outputs": [
    {
     "data": {
      "text/plain": [
       "191.24248884660983"
      ]
     },
     "execution_count": 19,
     "metadata": {},
     "output_type": "execute_result"
    }
   ],
   "source": [
    "for p1 in poles:\n",
    "    sum_p=0\n",
    "    sum_z=0\n",
    "    for p2 in poles:\n",
    "        if p1!=p2:\n",
    "            #print(np.degrees(np.arctan2(np.imag(p1-p2),np.real(p1-p2))))\n",
    "            sum_p+=np.arctan2(np.imag(p1-p2),np.real(p1-p2))\n",
    "    for z in zeros:\n",
    "        sum_z+=np.arctan2(-np.imag(z-p1),-np.real(z-p1))\n",
    "        \n",
    "    print(180+np.degrees(sum_z)-np.degrees(su"
   ]
  },
  {
   "cell_type": "code",
   "execution_count": 20,
   "id": "6adff55b",
   "metadata": {},
   "outputs": [
    {
     "data": {
      "text/plain": [
       "1.2094292028881888"
      ]
     },
     "execution_count": 20,
     "metadata": {},
     "output_type": "execute_result"
    }
   ],
   "source": [
    "zeros"
   ]
  },
  {
   "cell_type": "code",
   "execution_count": 21,
   "id": "112e367a",
   "metadata": {},
   "outputs": [
    {
     "data": {
      "text/plain": [
       "1.4056476493802699"
      ]
     },
     "execution_count": 21,
     "metadata": {},
     "output_type": "execute_result"
    }
   ],
   "source": [
    "roots"
   ]
  },
  {
   "cell_type": "code",
   "execution_count": 14,
   "id": "ba459042",
   "metadata": {},
   "outputs": [
    {
     "data": {
      "text/plain": [
       "-1.2094292028881888"
      ]
     },
     "execution_count": 14,
     "metadata": {},
     "output_type": "execute_result"
    }
   ],
   "source": [
    "zeros"
   ]
  },
  {
   "cell_type": "code",
   "execution_count": 26,
   "id": "10e199fd",
   "metadata": {},
   "outputs": [
    {
     "data": {
      "text/plain": [
       "191.24248884660983"
      ]
     },
     "execution_count": 26,
     "metadata": {},
     "output_type": "execute_result"
    }
   ],
   "source": [
    "360+np.degrees(roots)-np.degrees(zeros)-180"
   ]
  },
  {
   "cell_type": "code",
   "execution_count": 25,
   "id": "ec8a2387",
   "metadata": {},
   "outputs": [
    {
     "data": {
      "text/plain": [
       "168.75751115339017"
      ]
     },
     "execution_count": 25,
     "metadata": {},
     "output_type": "execute_result"
    }
   ],
   "source": [
    "(180-np.degrees(roots)+np.degrees(zeros)+360)%360"
   ]
  },
  {
   "cell_type": "code",
   "execution_count": null,
   "id": "e9c4fd2e",
   "metadata": {},
   "outputs": [],
   "source": []
  }
 ],
 "metadata": {
  "kernelspec": {
   "display_name": "Python 3 (ipykernel)",
   "language": "python",
   "name": "python3"
  },
  "language_info": {
   "codemirror_mode": {
    "name": "ipython",
    "version": 3
   },
   "file_extension": ".py",
   "mimetype": "text/x-python",
   "name": "python",
   "nbconvert_exporter": "python",
   "pygments_lexer": "ipython3",
   "version": "3.9.7"
  }
 },
 "nbformat": 4,
 "nbformat_minor": 5
}
